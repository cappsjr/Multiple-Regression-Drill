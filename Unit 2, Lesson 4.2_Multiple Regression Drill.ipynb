{
 "cells": [
  {
   "cell_type": "code",
   "execution_count": 45,
   "metadata": {
    "collapsed": true
   },
   "outputs": [],
   "source": [
    "import pandas as pd\n",
    "from matplotlib import pyplot as plt\n",
    "import numpy as np\n",
    "from sklearn import linear_model\n",
    "%matplotlib inline\n",
    "pd.options.display.float_format = '{:.3f}'.format\n",
    "\n",
    "# Suppress annoying harmless error.\n",
    "import warnings\n",
    "warnings.filterwarnings(action=\"ignore\", module=\"scipy\", message=\"^internal gelsd\")"
   ]
  },
  {
   "cell_type": "code",
   "execution_count": 73,
   "metadata": {},
   "outputs": [
    {
     "data": {
      "image/png": "[encoded data removed]",
      "text/plain": [
       "<matplotlib.figure.Figure at 0x11d5747f0>"
      ]
     },
     "metadata": {},
     "output_type": "display_data"
    },
    {
     "name": "stdout",
     "output_type": "stream",
     "text": [
      "Coefficients: \n",
      " [ 0.0464106]\n",
      "Intercept: \n",
      " 131.237502\n"
     ]
    }
   ],
   "source": [
    "df = pd.read_excel('/Users/cappsjr/Downloads/table_8_offenses_known_to_law_enforcement_new_york_by_city_2013.xls')\n",
    "df.columns = ('City', 'Population', 'Violent Crime', 'Murder and nonnegligent manslaughter',\n",
    "                     'Rape (revised definition)', 'Rape (Legacy definition)', 'Robbery', 'Aggravated assault',\n",
    "                     'Property crime', 'Burglary', 'Larceny-theft', 'Motor vehicle theft', 'Arson3')\n",
    "\n",
    "df1 = df.drop([0, 1, 2, 3, 352, 353, 354]).fillna(0)\n",
    "\n",
    "df1['Total Crime'] = df1['Violent Crime'] + df1['Murder and nonnegligent manslaughter'] + df1['Rape (revised definition)'] + df1['Rape (Legacy definition)'] + df1['Robbery'] + df1['Aggravated assault'] + df1['Property crime'] + df1['Burglary'] + df1['Larceny-theft'] + df1['Motor vehicle theft'] + df1['Arson3']\n",
    "\n",
    "x = df1['Population'].values.reshape(-1, 1)\n",
    "y = df1['Total Crime']\n",
    "\n",
    "#Instantiate our model\n",
    "regr = linear_model.LinearRegression()\n",
    "\n",
    "#Fit our model to our data\n",
    "regr.fit(x, y)\n",
    "\n",
    "\n",
    "plt.scatter(x, y)\n",
    "plt.xlim(0, 0.03*1e7)\n",
    "plt.ylim(0, 60000)\n",
    "plt.xlabel('Population')\n",
    "plt.ylabel('Total Crime')\n",
    "\n",
    "#Plot outputs\n",
    "\n",
    "plt.scatter(x, y, color='black')\n",
    "plt.plot(x, regr.predict(x), color='blue', linewidth=3)\n",
    "plt.show()\n",
    "\n",
    "#Display the attributes we calculated\n",
    "print('Coefficients: \\n', regr.coef_)\n",
    "print('Intercept: \\n', regr.intercept_)"
   ]
  },
  {
   "cell_type": "code",
   "execution_count": 80,
   "metadata": {},
   "outputs": [],
   "source": [
    "df1['Population2'] = df1['Population']**2\n",
    "df1['Murder'] = np.where(df1['Murder and nonnegligent manslaughter'] > 0, 1, 0)\n",
    "df1['Robbery1'] = np.where(df1['Robbery'] > 0, 1, 0)"
   ]
  },
  {
   "cell_type": "code",
   "execution_count": 81,
   "metadata": {},
   "outputs": [
    {
     "data": {
      "text/html": [
       "<div>\n",
       "<style>\n",
       "    .dataframe thead tr:only-child th {\n",
       "        text-align: right;\n",
       "    }\n",
       "\n",
       "    .dataframe thead th {\n",
       "        text-align: left;\n",
       "    }\n",
       "\n",
       "    .dataframe tbody tr th {\n",
       "        vertical-align: top;\n",
       "    }\n",
       "</style>\n",
       "<table border=\"1\" class=\"dataframe\">\n",
       "  <thead>\n",
       "    <tr style=\"text-align: right;\">\n",
       "      <th></th>\n",
       "      <th>City</th>\n",
       "      <th>Population</th>\n",
       "      <th>Violent Crime</th>\n",
       "      <th>Murder and nonnegligent manslaughter</th>\n",
       "      <th>Rape (revised definition)</th>\n",
       "      <th>Rape (Legacy definition)</th>\n",
       "      <th>Robbery</th>\n",
       "      <th>Aggravated assault</th>\n",
       "      <th>Property crime</th>\n",
       "      <th>Burglary</th>\n",
       "      <th>Larceny-theft</th>\n",
       "      <th>Motor vehicle theft</th>\n",
       "      <th>Arson3</th>\n",
       "      <th>Total Crime</th>\n",
       "      <th>Population2</th>\n",
       "      <th>Murder</th>\n",
       "      <th>Robbery1</th>\n",
       "    </tr>\n",
       "  </thead>\n",
       "  <tbody>\n",
       "    <tr>\n",
       "      <th>4</th>\n",
       "      <td>Adams Village</td>\n",
       "      <td>1861</td>\n",
       "      <td>0</td>\n",
       "      <td>0</td>\n",
       "      <td>0</td>\n",
       "      <td>0</td>\n",
       "      <td>0</td>\n",
       "      <td>0</td>\n",
       "      <td>12</td>\n",
       "      <td>2</td>\n",
       "      <td>10</td>\n",
       "      <td>0</td>\n",
       "      <td>0</td>\n",
       "      <td>24</td>\n",
       "      <td>3463321</td>\n",
       "      <td>0</td>\n",
       "      <td>0</td>\n",
       "    </tr>\n",
       "    <tr>\n",
       "      <th>5</th>\n",
       "      <td>Addison Town and Village</td>\n",
       "      <td>2577</td>\n",
       "      <td>3</td>\n",
       "      <td>0</td>\n",
       "      <td>0</td>\n",
       "      <td>0</td>\n",
       "      <td>0</td>\n",
       "      <td>3</td>\n",
       "      <td>24</td>\n",
       "      <td>3</td>\n",
       "      <td>20</td>\n",
       "      <td>1</td>\n",
       "      <td>0</td>\n",
       "      <td>54</td>\n",
       "      <td>6640929</td>\n",
       "      <td>0</td>\n",
       "      <td>0</td>\n",
       "    </tr>\n",
       "    <tr>\n",
       "      <th>6</th>\n",
       "      <td>Akron Village</td>\n",
       "      <td>2846</td>\n",
       "      <td>3</td>\n",
       "      <td>0</td>\n",
       "      <td>0</td>\n",
       "      <td>0</td>\n",
       "      <td>0</td>\n",
       "      <td>3</td>\n",
       "      <td>16</td>\n",
       "      <td>1</td>\n",
       "      <td>15</td>\n",
       "      <td>0</td>\n",
       "      <td>0</td>\n",
       "      <td>38</td>\n",
       "      <td>8099716</td>\n",
       "      <td>0</td>\n",
       "      <td>0</td>\n",
       "    </tr>\n",
       "    <tr>\n",
       "      <th>7</th>\n",
       "      <td>Albany</td>\n",
       "      <td>97956</td>\n",
       "      <td>791</td>\n",
       "      <td>8</td>\n",
       "      <td>0</td>\n",
       "      <td>30</td>\n",
       "      <td>227</td>\n",
       "      <td>526</td>\n",
       "      <td>4090</td>\n",
       "      <td>705</td>\n",
       "      <td>3243</td>\n",
       "      <td>142</td>\n",
       "      <td>0</td>\n",
       "      <td>9762</td>\n",
       "      <td>9595377936</td>\n",
       "      <td>1</td>\n",
       "      <td>1</td>\n",
       "    </tr>\n",
       "    <tr>\n",
       "      <th>8</th>\n",
       "      <td>Albion Village</td>\n",
       "      <td>6388</td>\n",
       "      <td>23</td>\n",
       "      <td>0</td>\n",
       "      <td>0</td>\n",
       "      <td>3</td>\n",
       "      <td>4</td>\n",
       "      <td>16</td>\n",
       "      <td>223</td>\n",
       "      <td>53</td>\n",
       "      <td>165</td>\n",
       "      <td>5</td>\n",
       "      <td>0</td>\n",
       "      <td>492</td>\n",
       "      <td>40806544</td>\n",
       "      <td>0</td>\n",
       "      <td>1</td>\n",
       "    </tr>\n",
       "  </tbody>\n",
       "</table>\n",
       "</div>"
      ],
      "text/plain": [
       "                       City  Population  Violent Crime  \\\n",
       "4             Adams Village        1861              0   \n",
       "5  Addison Town and Village        2577              3   \n",
       "6             Akron Village        2846              3   \n",
       "7                    Albany       97956            791   \n",
       "8            Albion Village        6388             23   \n",
       "\n",
       "   Murder and nonnegligent manslaughter  Rape (revised definition)  \\\n",
       "4                                     0                          0   \n",
       "5                                     0                          0   \n",
       "6                                     0                          0   \n",
       "7                                     8                          0   \n",
       "8                                     0                          0   \n",
       "\n",
       "   Rape (Legacy definition)  Robbery  Aggravated assault  Property crime  \\\n",
       "4                         0        0                   0              12   \n",
       "5                         0        0                   3              24   \n",
       "6                         0        0                   3              16   \n",
       "7                        30      227                 526            4090   \n",
       "8                         3        4                  16             223   \n",
       "\n",
       "   Burglary  Larceny-theft  Motor vehicle theft  Arson3  Total Crime  \\\n",
       "4         2             10                    0       0           24   \n",
       "5         3             20                    1       0           54   \n",
       "6         1             15                    0       0           38   \n",
       "7       705           3243                  142       0         9762   \n",
       "8        53            165                    5       0          492   \n",
       "\n",
       "   Population2  Murder  Robbery1  \n",
       "4      3463321       0         0  \n",
       "5      6640929       0         0  \n",
       "6      8099716       0         0  \n",
       "7   9595377936       1         1  \n",
       "8     40806544       0         1  "
      ]
     },
     "execution_count": 81,
     "metadata": {},
     "output_type": "execute_result"
    }
   ],
   "source": [
    "df1.head()"
   ]
  },
  {
   "cell_type": "code",
   "execution_count": 84,
   "metadata": {},
   "outputs": [
    {
     "data": {
      "text/plain": [
       "LinearRegression(copy_X=True, fit_intercept=True, n_jobs=1, normalize=False)"
      ]
     },
     "execution_count": 84,
     "metadata": {},
     "output_type": "execute_result"
    }
   ],
   "source": [
    "X = df1[['Population', 'Population2', 'Murder', 'Robbery1']]\n",
    "Y = df1['Property crime']\n",
    "\n",
    "#Instantiate our model\n",
    "regr = linear_model.LinearRegression()\n",
    "\n",
    "#Fit our model to our data\n",
    "regr.fit(X, Y)"
   ]
  },
  {
   "cell_type": "code",
   "execution_count": 87,
   "metadata": {},
   "outputs": [
    {
     "name": "stdout",
     "output_type": "stream",
     "text": [
      "\n",
      "Coefficients: \n",
      " [  3.46570268e-02  -2.11108019e-09   1.51866535e+01  -9.62774363e+01]\n",
      "\n",
      "Intercepts: \n",
      " -109.575335623\n"
     ]
    }
   ],
   "source": [
    "# inspect the results\n",
    "print('\\nCoefficients: \\n', regr.coef_)\n",
    "print('\\nIntercepts: \\n', regr.intercept_)"
   ]
  },
  {
   "cell_type": "code",
   "execution_count": null,
   "metadata": {
    "collapsed": true
   },
   "outputs": [],
   "source": []
  }
 ],
 "metadata": {
  "kernelspec": {
   "display_name": "Python 3",
   "language": "python",
   "name": "python3"
  },
  "language_info": {
   "codemirror_mode": {
    "name": "ipython",
    "version": 3
   },
   "file_extension": ".py",
   "mimetype": "text/x-python",
   "name": "python",
   "nbconvert_exporter": "python",
   "pygments_lexer": "ipython3",
   "version": "3.6.1"
  }
 },
 "nbformat": 4,
 "nbformat_minor": 2
}
